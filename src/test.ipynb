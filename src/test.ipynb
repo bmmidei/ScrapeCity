{
 "cells": [
  {
   "cell_type": "code",
   "execution_count": 10,
   "metadata": {
    "collapsed": true
   },
   "outputs": [
    {
     "name": "stdout",
     "output_type": "stream",
     "text": [
      "The autoreload extension is already loaded. To reload it, use:\n  %reload_ext autoreload\n"
     ]
    }
   ],
   "source": [
    "from src.query import get_buildings, get_apartments\n",
    "\n",
    "%load_ext autoreload\n",
    "%autoreload 2"
   ]
  },
  {
   "cell_type": "code",
   "execution_count": 11,
   "metadata": {},
   "outputs": [
    {
     "name": "stdout",
     "output_type": "stream",
     "text": [
      "Riverfront Towers, Detroit, MI https://www.apartments.com/riverfront-towers-detroit-mi/f6rd9hs/\nBaltimore Station 1, Detroit, MI https://www.apartments.com/baltimore-station-1-detroit-mi/6ngewjs/\nDuCharme Place, Detroit, MI https://www.apartments.com/ducharme-place-detroit-mi/pdgkglt/\nThe Albert, Detroit, MI https://www.apartments.com/the-albert-detroit-mi/rpvk4j0/\nThe Scott at Brush Park, Detroit, MI https://www.apartments.com/the-scott-at-brush-park-detroit-mi/2qcqk6c/\nOrleans Landing, Detroit, MI https://www.apartments.com/orleans-landing-detroit-mi/plsdnfr/\nJeffersonian Houze Apartments, Detroit, MI https://www.apartments.com/jeffersonian-houze-apartments-detroit-mi/24rjhq9/\nAlden Towers, Detroit, MI https://www.apartments.com/alden-towers-detroit-mi/pt6qj8s/\nWaters Edge at Harbortown, Detroit, MI https://www.apartments.com/waters-edge-at-harbortown-detroit-mi/5xy0e9n/\nPhilip Houze, Detroit, MI https://www.apartments.com/philip-houze-detroit-mi/6wfzplt/\nBriggs Houze, Detroit, MI https://www.apartments.com/briggs-houze-detroit-mi/hl2ycn2/\nElmwood Club Plaza Apartments, Detroit, MI https://www.apartments.com/elmwood-club-plaza-apartments-detroit-mi/0lff2g1/\nCentral Park Apartments, Detroit, MI https://www.apartments.com/central-park-apartments-detroit-mi/d4ey1vj/\nThe Kales Building, Detroit, MI https://www.apartments.com/the-kales-building-detroit-mi/mkm879k/\nTown Residences, Detroit, MI https://www.apartments.com/town-residences-detroit-mi/jzefpd7/\nCity Place Detroit Apartments, Detroit, MI https://www.apartments.com/city-place-detroit-apartments-detroit-mi/hmk20b0/\nFairlane Meadow Apartments &amp; Townhomes, Dearborn, MI https://www.apartments.com/fairlane-meadow-apartments-townhomes-dearborn-mi/5l90z3n/\nThe Heights of Southfield, Southfield, MI https://www.apartments.com/the-heights-of-southfield-southfield-mi/8w1mqe0/\nThe Sapphire, Southfield, MI https://www.apartments.com/the-sapphire-southfield-mi/8etgj21/\nLafayette Towers, Detroit, MI https://www.apartments.com/lafayette-towers-detroit-mi/r8h66x0/\nThe Hamilton Midtown Detroit, Detroit, MI https://www.apartments.com/the-hamilton-midtown-detroit-detroit-mi/j7j60w6/\nDetroit City Club Apartments, Detroit, MI https://www.apartments.com/detroit-city-club-apartments-detroit-mi/7kg4yyx/\nThe Lofts of Merchants Row, Detroit, MI https://www.apartments.com/the-lofts-of-merchants-row-detroit-mi/ng2kytq/\nRiver Place, Detroit, MI https://www.apartments.com/river-place-detroit-mi/980x6p5/\nLafayette Park Place, Detroit, MI https://www.apartments.com/lafayette-park-place-detroit-mi/evrfbln/\n"
     ]
    }
   ],
   "source": [
    "location = 'detroit-mi/'\n",
    "page_url = 'https://www.apartments.com/' + location\n",
    "d = get_buildings(url=page_url)\n",
    "for k,v in d.items():\n",
    "    print(k, v)"
   ]
  },
  {
   "cell_type": "code",
   "execution_count": 16,
   "metadata": {},
   "outputs": [],
   "source": [
    "page_url = 'https://www.apartments.com/jeffersonian-houze-apartments-detroit-mi/24rjhq9/'\n",
    "apt_info = get_apartments(page_url)"
   ]
  },
  {
   "cell_type": "code",
   "execution_count": 17,
   "metadata": {},
   "outputs": [
    {
     "name": "stdout",
     "output_type": "stream",
     "text": [
      "{'min_rent': 1200, 'max_rent': 1200, 'beds': '1 BR', 'baths': '1 BA', 'min_area': 'NA', 'max_area': 'NA'}\n{'min_rent': 1200, 'max_rent': 1200, 'beds': '1 BR', 'baths': '1 BA', 'min_area': 'NA', 'max_area': 'NA'}\n{'min_rent': 1395, 'max_rent': 1395, 'beds': '2 BRs', 'baths': '2 BAs', 'min_area': 'NA', 'max_area': 'NA'}\n{'min_rent': 1395, 'max_rent': 1395, 'beds': '2 BRs', 'baths': '2 BAs', 'min_area': 'NA', 'max_area': 'NA'}\n{'min_rent': 1550, 'max_rent': 1550, 'beds': '2 BRs', 'baths': '2 BAs', 'min_area': 'NA', 'max_area': 'NA'}\n{'min_rent': 1550, 'max_rent': 1550, 'beds': '2 BRs', 'baths': '2 BAs', 'min_area': 'NA', 'max_area': 'NA'}\n{'min_rent': 1550, 'max_rent': 1550, 'beds': '2 BRs', 'baths': '2 BAs', 'min_area': 'NA', 'max_area': 'NA'}\n{'min_rent': 1600, 'max_rent': 1600, 'beds': '2 BRs', 'baths': '2 BAs', 'min_area': 'NA', 'max_area': 'NA'}\n{'min_rent': 1600, 'max_rent': 1600, 'beds': '2 BRs', 'baths': '2 BAs', 'min_area': 'NA', 'max_area': 'NA'}\n{'min_rent': 895, 'max_rent': 895, 'beds': '1 BR', 'baths': '1 BA', 'min_area': 'NA', 'max_area': 'NA'}\n{'min_rent': 'NA', 'max_rent': 'NA', 'beds': '1 BR', 'baths': '1 BA', 'min_area': 'NA', 'max_area': 'NA'}\n{'min_rent': 'NA', 'max_rent': 'NA', 'beds': '1 BR', 'baths': '2 BAs', 'min_area': 'NA', 'max_area': 'NA'}\n{'min_rent': 'NA', 'max_rent': 'NA', 'beds': '1 BR', 'baths': '1 BA', 'min_area': 'NA', 'max_area': 'NA'}\n{'min_rent': 995, 'max_rent': 995, 'beds': '2 BRs', 'baths': '2 BAs', 'min_area': 'NA', 'max_area': 'NA'}\n{'min_rent': 1095, 'max_rent': 1095, 'beds': '2 BRs', 'baths': '2 BAs', 'min_area': 'NA', 'max_area': 'NA'}\n{'min_rent': 'NA', 'max_rent': 'NA', 'beds': '2 BRs', 'baths': '2 BAs', 'min_area': 'NA', 'max_area': 'NA'}\n{'min_rent': 'NA', 'max_rent': 'NA', 'beds': '2 BRs', 'baths': '2 BAs', 'min_area': 'NA', 'max_area': 'NA'}\n{'min_rent': 'NA', 'max_rent': 'NA', 'beds': '2 BRs', 'baths': '3 BAs', 'min_area': 'NA', 'max_area': 'NA'}\n"
     ]
    }
   ],
   "source": [
    "for apt in apt_info:\n",
    "    print(apt)"
   ]
  }
 ],
 "metadata": {
  "kernelspec": {
   "display_name": "Python 2",
   "language": "python",
   "name": "python2"
  },
  "language_info": {
   "codemirror_mode": {
    "name": "ipython",
    "version": 2.0
   },
   "file_extension": ".py",
   "mimetype": "text/x-python",
   "name": "python",
   "nbconvert_exporter": "python",
   "pygments_lexer": "ipython2",
   "version": "2.7.6"
  }
 },
 "nbformat": 4,
 "nbformat_minor": 0
}